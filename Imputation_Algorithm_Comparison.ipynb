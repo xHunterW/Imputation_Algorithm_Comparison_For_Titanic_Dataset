{
 "cells": [
  {
   "cell_type": "markdown",
   "id": "778be39f",
   "metadata": {},
   "source": [
    "# Imputation Algorithm Comparison for the Titanic Dataset using kNN and Regression"
   ]
  },
  {
   "cell_type": "markdown",
   "id": "bdda94eb-c2bd-4b1e-bb9c-76f7310fe930",
   "metadata": {},
   "source": [
    "# Hunter Worssam, September 14th, 2025"
   ]
  },
  {
   "cell_type": "markdown",
   "id": "4f93db3e-dd2b-451d-a8a0-0a38ac2a3f2c",
   "metadata": {},
   "source": [
    "# README (Execution & Setup)\n",
    "\n",
    "- **Python version:** `3.10.18`\n",
    "- **Required packages:** `numpy`, `pandas`, `scikit-learn`, `matplotlib`, `scipy` (optional: `seaborn`)\n",
    "- **Install instructions:**\n",
    "  ```bash\n",
    "  # Please run the following pip installs in bash or in this notebook:\n",
    "  # pip install -U numpy pandas scikit-learn matplotlib scipy seaborn\n",
    "  ```\n",
    "  ```\n",
    "  ```\n",
    "- **Datasets used:**\n",
    "  - Download the Titanic dataset from kaggle using the link:\n",
    "        - https://www.kaggle.com/datasets/brendan45774/test-file?resource=download\n",
    "  - Unzip the downloaded zip file, and place the resulting \"tested.csv\" file in a working directory folder titled \"data\"\n",
    "    ```\n",
    "    ```\n",
    "- **How to run this notebook:**\n",
    "  1. Run all cells in order (Kernel → Restart & Run All).\n",
    "  2. Ensure figures and tables render correctly."
   ]
  },
  {
   "cell_type": "code",
   "execution_count": 5,
   "id": "71ddd6b2-cc39-4c61-93ca-650fb3728296",
   "metadata": {},
   "outputs": [
    {
     "name": "stdout",
     "output_type": "stream",
     "text": [
      "Python: 3.10.18\n",
      "Platform: macOS-15.6.1-arm64-arm-64bit\n",
      "NumPy: 1.26.4\n",
      "Pandas: 2.3.2\n",
      "Matplotlib: 3.10.6\n",
      "SciPy: 1.11.4\n",
      "scikit-learn: 1.4.2\n",
      "Seaborn: 0.13.2\n"
     ]
    }
   ],
   "source": [
    "# Environment Check & Imports\n",
    "import warnings\n",
    "warnings.filterwarnings(\n",
    "    \"ignore\",\n",
    "    category=FutureWarning,\n",
    "    module=r\"sklearn\\.metrics\\._regression\"\n",
    ")\n",
    "import sys, platform\n",
    "from pathlib import Path\n",
    "import os, sys\n",
    "import re\n",
    "import numpy as np, pandas as pd\n",
    "import seaborn as sns\n",
    "import matplotlib.pyplot as plt\n",
    "from sklearn.impute import SimpleImputer\n",
    "from sklearn.preprocessing import OneHotEncoder, StandardScaler\n",
    "from sklearn.compose import ColumnTransformer\n",
    "from sklearn.pipeline import Pipeline\n",
    "from sklearn.neighbors import KNeighborsClassifier\n",
    "from sklearn.model_selection import GridSearchCV, StratifiedKFold\n",
    "from sklearn.ensemble import RandomForestClassifier, RandomForestRegressor\n",
    "from sklearn.model_selection import GridSearchCV, KFold, cross_val_score\n",
    "from sklearn.metrics import confusion_matrix\n",
    "from sklearn.metrics import mean_absolute_error, mean_squared_error\n",
    "from scipy.stats import ks_2samp\n",
    "\n",
    "# Environment report\n",
    "def env_report():\n",
    "    import platform, sklearn\n",
    "    print(\"Python:\", sys.version.split()[0])\n",
    "    print(\"Platform:\", platform.platform())\n",
    "    print(\"NumPy:\", np.__version__)\n",
    "    print(\"Pandas:\", pd.__version__)\n",
    "    print(\"Matplotlib:\", plt.matplotlib.__version__)\n",
    "    print(\"SciPy:\", __import__(\"scipy\").__version__)\n",
    "    print(\"scikit-learn:\", sklearn.__version__)\n",
    "    try:\n",
    "        import seaborn as _sns\n",
    "        print(\"Seaborn:\", _sns.__version__)\n",
    "    except Exception:\n",
    "        print(\"Seaborn: not installed\")\n",
    "\n",
    "env_report()"
   ]
  },
  {
   "cell_type": "code",
   "execution_count": 6,
   "id": "7ae0d65a-6576-42ec-baa7-bfe7d17e5d31",
   "metadata": {},
   "outputs": [],
   "source": [
    "## Adjustable Inputs\n",
    "DATA_PATH = Path(\"data/tested.csv\")    # use relative paths\n",
    "RANDOM_SEED = 42\n",
    "cabin_features = [\"Pclass\", \"Fare\", \"SibSp\"] # Train kNN imputation model on these features\n",
    "knn_param_grid = {\"knn__n_neighbors\": [3, 4, 5, 6, 7, 8, 9, 10, 11]} # Test these values as k in our kNN algorithm\n",
    "age_features = [\"Pclass\", \"Fare\", \"FamilySize\", \"Sex\"]\n",
    "# Paramaters to iterate through for our regressor model\n",
    "regressor_param_grid = {\n",
    "    \"model__n_estimators\": [200, 400],\n",
    "    \"model__max_depth\": [None, 8, 12],\n",
    "    \"model__min_samples_leaf\": [1, 2, 4],\n",
    "}"
   ]
  },
  {
   "cell_type": "markdown",
   "id": "30c9d2df",
   "metadata": {},
   "source": [
    "## Data Analysis Section"
   ]
  },
  {
   "cell_type": "code",
   "execution_count": 10,
   "id": "5102fb94",
   "metadata": {},
   "outputs": [
    {
     "name": "stdout",
     "output_type": "stream",
     "text": [
      "(418, 12)\n",
      "PassengerId      int64\n",
      "Survived         int64\n",
      "Pclass           int64\n",
      "Name            object\n",
      "Sex             object\n",
      "Age            float64\n",
      "SibSp            int64\n",
      "Parch            int64\n",
      "Ticket          object\n",
      "Fare           float64\n",
      "Cabin           object\n",
      "Embarked        object\n",
      "dtype: object\n",
      "   PassengerId  Survived  Pclass  \\\n",
      "0          892         0       3   \n",
      "1          893         1       3   \n",
      "2          894         0       2   \n",
      "3          895         0       3   \n",
      "4          896         1       3   \n",
      "\n",
      "                                           Name     Sex   Age  SibSp  Parch  \\\n",
      "0                              Kelly, Mr. James    male  34.5      0      0   \n",
      "1              Wilkes, Mrs. James (Ellen Needs)  female  47.0      1      0   \n",
      "2                     Myles, Mr. Thomas Francis    male  62.0      0      0   \n",
      "3                              Wirz, Mr. Albert    male  27.0      0      0   \n",
      "4  Hirvonen, Mrs. Alexander (Helga E Lindqvist)  female  22.0      1      1   \n",
      "\n",
      "    Ticket     Fare Cabin Embarked  \n",
      "0   330911   7.8292   NaN        Q  \n",
      "1   363272   7.0000   NaN        S  \n",
      "2   240276   9.6875   NaN        Q  \n",
      "3   315154   8.6625   NaN        S  \n",
      "4  3101298  12.2875   NaN        S  \n",
      "Categorical variables: ['Name', 'Sex', 'Ticket', 'Cabin', 'Embarked']\n",
      "Numerical variables: ['PassengerId', 'Survived', 'Pclass', 'Age', 'SibSp', 'Parch', 'Fare']\n"
     ]
    }
   ],
   "source": [
    "# Load dataset\n",
    "df = pd.read_csv(DATA_PATH)\n",
    "\n",
    "# Introductory look at the dataset:\n",
    "print(df.shape)\n",
    "print(df.dtypes)\n",
    "print(df.head())\n",
    "\n",
    "# Separate categorical vs numerical variables\n",
    "categorical = df.select_dtypes(include=['object', 'category']).columns.tolist()\n",
    "numerical = df.select_dtypes(include=['int64', 'float64']).columns.tolist()\n",
    "\n",
    "print(\"Categorical variables:\", categorical)\n",
    "print(\"Numerical variables:\", numerical)"
   ]
  },
  {
   "cell_type": "code",
   "execution_count": 11,
   "id": "91c79e28-5323-482b-b1eb-548f8a258554",
   "metadata": {},
   "outputs": [
    {
     "name": "stdout",
     "output_type": "stream",
     "text": [
      "             Missing Count  Missing %\n",
      "Cabin                  327  78.229665\n",
      "Age                     86  20.574163\n",
      "Fare                     1   0.239234\n",
      "PassengerId              0   0.000000\n",
      "Survived                 0   0.000000\n",
      "Pclass                   0   0.000000\n",
      "Name                     0   0.000000\n",
      "Sex                      0   0.000000\n",
      "SibSp                    0   0.000000\n",
      "Parch                    0   0.000000\n",
      "Ticket                   0   0.000000\n",
      "Embarked                 0   0.000000\n",
      "Series([], Name: count, dtype: int64)\n",
      "Cabin\n",
      "True     327\n",
      "False     91\n",
      "Name: count, dtype: int64\n",
      "     PassengerId  Survived  Pclass                Name   Sex   Age  SibSp  \\\n",
      "152         1044         0       3  Storey, Mr. Thomas  male  60.5      0   \n",
      "\n",
      "     Parch Ticket  Fare Cabin Embarked  \n",
      "152      0   3701   NaN   NaN        S  \n"
     ]
    }
   ],
   "source": [
    "# Count missing values\n",
    "missing_counts = df.isnull().sum().sort_values(ascending=False)\n",
    "missing_perc = (df.isnull().mean() * 100).sort_values(ascending=False)\n",
    "\n",
    "missing_summary = pd.DataFrame({\n",
    "    \"Missing Count\": missing_counts,\n",
    "    \"Missing %\": missing_perc\n",
    "})\n",
    "\n",
    "print(missing_summary)\n",
    "\n",
    "# Age missingness\n",
    "print(df[df[\"Age\"].isnull()].value_counts())\n",
    "\n",
    "# Cabin missingness\n",
    "print(df[\"Cabin\"].isnull().value_counts())\n",
    "\n",
    "# Fare missingness, only one missing value so we can check it out directly\n",
    "print(df[df[\"Fare\"].isnull()].head())"
   ]
  },
  {
   "cell_type": "markdown",
   "id": "082380c6-f5ae-48ea-a509-a637a71b3300",
   "metadata": {},
   "source": [
    "Based on this initial analysis, we can infer the missingness patterns of the variables with significant missing values. For the cabin column, 78.2% of values are missing, likely because lower-class passengers were less likely to have cabins recorded. These values are likely missing not at random (MNAR). Also, due to the large number of possible cabin's, it will be more difficult to accurately impute these values compared to age and fare.\n",
    "\n",
    "Age has a fair amount of missing values at around 20%. These missing values are likely Missing at Random (MAR), perhaps in an explainable fashion through variables like class, title, and sex. At a rate of 20% missing, these value should be relatively easy to impute at an accurate rate. \n",
    "\n",
    "For the fare variable, we only have a single missing value out of 418 total observations, which is almost certainly missing at random (MAR). Since we have no other observations missing a fare value, it will be incredibly difficult to isolate the reason that led to this missing input. "
   ]
  },
  {
   "cell_type": "code",
   "execution_count": 13,
   "id": "1ad7858a-edde-4cc2-9817-29f6f83b861d",
   "metadata": {},
   "outputs": [
    {
     "name": "stdout",
     "output_type": "stream",
     "text": [
      "Pclass              1        2         3\n",
      "Age_missing                             \n",
      "0            0.295181  0.26506  0.439759\n",
      "1            0.104651  0.05814  0.837209\n",
      "Sex            female      male\n",
      "Age_missing                    \n",
      "0            0.382530  0.617470\n",
      "1            0.290698  0.709302\n",
      "Pclass                1         2         3\n",
      "Cabin_missing                              \n",
      "0              0.879121  0.076923  0.043956\n",
      "1              0.082569  0.262997  0.654434\n"
     ]
    },
    {
     "data": {
      "image/png": "[encoded data removed]",
      "text/plain": [
       "<Figure size 640x480 with 1 Axes>"
      ]
     },
     "metadata": {},
     "output_type": "display_data"
    },
    {
     "data": {
      "image/png": "[encoded data removed]",
      "text/plain": [
       "<Figure size 640x480 with 1 Axes>"
      ]
     },
     "metadata": {},
     "output_type": "display_data"
    }
   ],
   "source": [
    "# Create binary indicators for missing Age and Cabin\n",
    "df[\"Age_missing\"] = df[\"Age\"].isnull().astype(int)\n",
    "df[\"Cabin_missing\"] = df[\"Cabin\"].isnull().astype(int)\n",
    "\n",
    "# Explore how passenger class and sex impact chance of age being missing\n",
    "print(pd.crosstab(df[\"Age_missing\"], df[\"Pclass\"], normalize=\"index\"))\n",
    "print(pd.crosstab(df[\"Age_missing\"], df[\"Sex\"], normalize=\"index\"))\n",
    "\n",
    "# Explore how passenger inclass impacts chance of cabin missing\n",
    "print(pd.crosstab(df[\"Cabin_missing\"], df[\"Pclass\"], normalize=\"index\"))\n",
    "\n",
    "# Boxplot of Fare vs Cabin missingness\n",
    "sns.boxplot(x=\"Cabin_missing\", y=\"Fare\", data=df)\n",
    "plt.title(\"Fare vs Cabin Missingness\")\n",
    "plt.show()\n",
    "\n",
    "# Countplot of Pclass vs Age missingness\n",
    "sns.countplot(x=\"Pclass\", hue=\"Age_missing\", data=df)\n",
    "plt.title(\"Pclass vs Age Missingness\")\n",
    "plt.show()"
   ]
  },
  {
   "cell_type": "markdown",
   "id": "edeba5b9-5bb6-45ee-bd2f-ad9b070b7c9a",
   "metadata": {},
   "source": [
    "From the quantititative summaries and box plots above, we can clearly see some trends that are indicative of whether or not we have missing data in the cabin and age columns. For age, we see a 71% / 29% split in missing data between males and females respectively, however this may be biased by the overall gender difference on the ship. More telling is the disparity in missing age values between the 1st, 2nd and 3rd passenger classes. Nearly 84% of missing age values belonged to passengers in the 3rd class. \n",
    "\n",
    "A similar story is painted for the missing cabin data, where we observe 65% of the missing values belonging to passengers in 3rd class. Additionally, we can see the mean fare price for passengers with missing cabin data is far below the mean fare price for passengers with cabin data. This confirms our inclination that third class passengers were far more likely to be missing cabin data. \n",
    "\n",
    "Both of these findings play an important role in how we interpret our imputation algorithm results. If we find that many of the inputed values don't align with the third-class feature means, we may have an issue."
   ]
  },
  {
   "cell_type": "markdown",
   "id": "26a3f4ad",
   "metadata": {},
   "source": [
    "## Imputation method #1: K-Nearest Neighbors (KNN) Imputation for missing Cabin data ##"
   ]
  },
  {
   "cell_type": "markdown",
   "id": "59ffbcdd-3a1a-4604-8352-46c4d7bea08d",
   "metadata": {},
   "source": [
    "For the Cabin data type, we have categorical variables in the form of strings with many unique values like C123, E44, etc.\n",
    "The missingness pattern is MNAR (Missing Not at Random), and we have observed that the missingness pattern is strongly linked to fare price and passenger class, with 3rd class containing the majority of the missing data. Considering the information above, KNN aligns with Cabin’s MNAR pattern because it leverages correlated variables (Fare, Pclass), however it's important to note that accuraccy may be impacted due to the wide range of Cabin values that are possible.\n",
    "\n",
    "Regression imputation would not be suitable here since Cabin is categorical with many rare categories.\n",
    "\n",
    "An approach that may be considered is to simplify Cabin into a higher-level feature by extracting deck letter (C, E, D) and impute deck instead letter instead of full cabin number. This reduces complexity and makes imputation more meaningful since the numbers in the cabin codes do not carry strong meaning here."
   ]
  },
  {
   "cell_type": "markdown",
   "id": "54598f7b-dc41-4a71-a891-2d42ceafb737",
   "metadata": {},
   "source": [
    "## Imputation method #2: Regression Imputation for missing Age data ##"
   ]
  },
  {
   "cell_type": "markdown",
   "id": "a18fce97-4563-48ba-872a-b09ac9b1dc8b",
   "metadata": {},
   "source": [
    "For the Age data type, we have continuous numerical data in the form of numbers ranging from 0.17 to 76. The missingness pattern appeared to be missing at random (MAR), where more missingness was observed in the third class passengers. Fare price, sex and title from names could also play a role in missingness. \n",
    "\n",
    "Regression aligns with Age’s MAR pattern because its missingness can be explained by observed features. kNN could also be a reasonable approach, but we will leverage regression imputation so that we can compare approaches and effectiveness. "
   ]
  },
  {
   "cell_type": "markdown",
   "id": "5bed147c",
   "metadata": {},
   "source": [
    "# Implementation"
   ]
  },
  {
   "cell_type": "markdown",
   "id": "7e507b22",
   "metadata": {},
   "source": [
    "## Implemented kNN imputation Algorithm ##"
   ]
  },
  {
   "cell_type": "code",
   "execution_count": 22,
   "id": "ee05cb38-d8d4-43d7-9a9f-a1c578211638",
   "metadata": {},
   "outputs": [],
   "source": [
    "# Preprocessing to remove cabin numbers and retain only Deck level; simplifying imputations\n",
    "# Keep original Cabin info\n",
    "df[\"Cabin_original\"] = df.get(\"Cabin\")\n",
    "\n",
    "# Create the Deck feature\n",
    "def extract_deck(cabin_value):\n",
    "    # Return first letter of first token in Cabin (takes first if 2+ are present)\n",
    "    if pd.isna(cabin_value) or str(cabin_value).strip() == \"\":\n",
    "        return np.nan\n",
    "    first_token = str(cabin_value).split()[0]\n",
    "    m = re.search(r\"[A-Za-z]\", first_token)\n",
    "    return m.group(0).upper() if m else np.nan\n",
    "df[\"Deck\"] = df[\"Cabin_original\"].apply(extract_deck)\n",
    "\n",
    "# Keep only plausible deck letters & set others to NaN\n",
    "valid_decks = list(\"ABCDEFG\")\n",
    "df.loc[~df[\"Deck\"].isin(valid_decks), \"Deck\"] = np.nan"
   ]
  },
  {
   "cell_type": "code",
   "execution_count": 23,
   "id": "d9338e4c-3a76-4f1e-bd42-284bb549847f",
   "metadata": {},
   "outputs": [],
   "source": [
    "# Features correlated with Deck and that have low missingness\n",
    "# See adjustable features section for the cabin features that are considered for this kNN imputation algorithm\n",
    "cabin_features = [c for c in cabin_features if c in df.columns] \n",
    "\n",
    "# Seperates features selected by data type for preprocessing\n",
    "num_cols = [c for c in cabin_features if pd.api.types.is_numeric_dtype(df[c])]\n",
    "cat_cols = [c for c in cabin_features if not pd.api.types.is_numeric_dtype(df[c])]\n",
    "\n",
    "# Of the cabin-specific features, take the numeric features and impute any missing values with the median value\n",
    "# Standard scale the features to mean = 0 and std dev = 1 to enable subsequent kNN modeling\n",
    "numeric_tf = Pipeline([\n",
    "    (\"imputer\", SimpleImputer(strategy=\"median\")),\n",
    "    (\"scaler\", StandardScaler())\n",
    "])\n",
    "\n",
    "# Of the cabin-specific features, take the categorical features and impute any missing values with the most common value\n",
    "# One-hot encode the categorical variables to binary indicator columns to enable subsequent kNN modeling\n",
    "categorical_tf = Pipeline([\n",
    "    (\"imputer\", SimpleImputer(strategy=\"most_frequent\")),\n",
    "    (\"onehot\", OneHotEncoder(handle_unknown=\"ignore\"))\n",
    "])\n",
    "\n",
    "# Apply the preprocessing steps outlined above\n",
    "preprocess = ColumnTransformer([\n",
    "    (\"num\", numeric_tf, num_cols),\n",
    "    (\"cat\", categorical_tf, cat_cols),\n",
    "])"
   ]
  },
  {
   "cell_type": "code",
   "execution_count": 24,
   "id": "35c44249-0a62-4c4e-85ed-bf59b8d8840b",
   "metadata": {},
   "outputs": [
    {
     "name": "stderr",
     "output_type": "stream",
     "text": [
      "/opt/anaconda3/envs/research_disc_one_env/lib/python3.10/site-packages/sklearn/model_selection/_split.py:737: UserWarning: The least populated class in y has only 1 members, which is less than n_splits=5.\n",
      "  warnings.warn(\n"
     ]
    },
    {
     "name": "stdout",
     "output_type": "stream",
     "text": [
      "Best k: 3\n",
      "CV accuracy: 0.54\n"
     ]
    }
   ],
   "source": [
    "# Split the observations between known Deck and unknown Deck\n",
    "mask_known = df[\"Deck\"].notna()\n",
    "mask_missing = ~mask_known\n",
    "\n",
    "# Derive the predictor columns X_train and their corresponding labels\n",
    "X_train = df.loc[mask_known, cabin_features]\n",
    "y_train = df.loc[mask_known, \"Deck\"]\n",
    "\n",
    "# Define the predictors with rows that are missing a Deck value, which must be predicted\n",
    "X_pred  = df.loc[mask_missing, cabin_features]\n",
    "\n",
    "# Build and tune the kNN classifier\n",
    "knn = KNeighborsClassifier(weights=\"distance\")\n",
    "pipe = Pipeline([\n",
    "    (\"preprocess\", preprocess),\n",
    "    (\"knn\", knn),\n",
    "])\n",
    "\n",
    "# kNN parameter grid to define our k value (See adjustable inputs section)\n",
    "cv = StratifiedKFold(n_splits=5, shuffle=True, random_state=42)\n",
    "gs = GridSearchCV(pipe, knn_param_grid, cv=cv, scoring=\"accuracy\", n_jobs=-1)\n",
    "gs.fit(X_train, y_train)\n",
    "\n",
    "print(\"Best k:\", gs.best_params_[\"knn__n_neighbors\"])\n",
    "print(\"CV accuracy:\", round(gs.best_score_, 3))"
   ]
  },
  {
   "cell_type": "code",
   "execution_count": 25,
   "id": "891859e2-3f28-45a6-9df6-6a9e7b8aa131",
   "metadata": {},
   "outputs": [
    {
     "name": "stdout",
     "output_type": "stream",
     "text": [
      "\n",
      "Imputation summary:\n",
      "Known decks before: 91\n",
      "Missing decks before: 327\n",
      "Missing decks after: 0\n",
      "Final deck levels: ['A', 'B', 'C', 'D', 'E', 'F', 'G']\n",
      "\n",
      "Deck x Pclass:\n",
      "Pclass       1   2    3\n",
      "Deck_final             \n",
      "A           10   0    0\n",
      "B           26   0    0\n",
      "C           44   0    2\n",
      "D           18  35    0\n",
      "E            9   0    0\n",
      "F            0  58  175\n",
      "G            0   0   41\n"
     ]
    }
   ],
   "source": [
    "# Predict missing Decks\n",
    "df.loc[mask_missing, \"Deck_imputed\"] = gs.predict(X_pred)\n",
    "df[\"Deck_final\"] = df[\"Deck\"].fillna(df[\"Deck_imputed\"])\n",
    "\n",
    "# Output prediction details\n",
    "print(\"\\nImputation summary:\")\n",
    "print(\"Known decks before:\", int(mask_known.sum()))\n",
    "print(\"Missing decks before:\", int(mask_missing.sum()))\n",
    "print(\"Missing decks after:\", int(df[\"Deck_final\"].isna().sum()))\n",
    "print(\"Final deck levels:\", sorted(df[\"Deck_final\"].dropna().unique()))\n",
    "if \"Pclass\" in df.columns:\n",
    "    print(\"\\nDeck x Pclass:\")\n",
    "    print(pd.crosstab(df[\"Deck_final\"], df[\"Pclass\"]))"
   ]
  },
  {
   "cell_type": "markdown",
   "id": "b03f08db-ef4d-4eb7-8fd7-31149b8a8add",
   "metadata": {},
   "source": [
    "Without going deep into the validation stage, we observe that our kNN imputation algorithm was able to assign a variety of Decks ranging from Deck A all the way through Deck G. We also see the higher decks corresponding to more 1st & 2nd class passengers, while the lower Decks correspond to 3rd class passengers, which is an intuitive result. See the validation section below for further analysis."
   ]
  },
  {
   "cell_type": "markdown",
   "id": "dbf735a1-6d0a-435a-88c0-0c1229a0ef29",
   "metadata": {},
   "source": [
    "## Implemented Regression imputation Algorithm ##"
   ]
  },
  {
   "cell_type": "code",
   "execution_count": 28,
   "id": "3f96b08c-f455-4260-8088-98bda5c4c412",
   "metadata": {},
   "outputs": [],
   "source": [
    "# Define FamilySize column\n",
    "df[\"FamilySize\"] = df[\"SibSp\"].fillna(0) + df[\"Parch\"].fillna(0) + 1\n",
    "\n",
    "# SPlit known age rows vs unknown age rows\n",
    "mask_known_age = df[\"Age\"].notna()\n",
    "mask_missing_age = ~mask_known_age\n",
    "\n",
    "# Define the training set of observations with features + ages\n",
    "X_train = df.loc[mask_known_age, age_features]\n",
    "y_train = df.loc[mask_known_age, \"Age\"]\n",
    "\n",
    "# Define unknown rows with relevant features but missing Age\n",
    "X_pred  = df.loc[mask_missing_age, age_features]\n",
    "\n",
    "num_cols = [c for c in age_features if pd.api.types.is_numeric_dtype(df[c])]\n",
    "cat_cols = [c for c in age_features if not pd.api.types.is_numeric_dtype(df[c])]"
   ]
  },
  {
   "cell_type": "code",
   "execution_count": 29,
   "id": "c4c0fb1b-4073-4b61-82a7-f47f63ae8adc",
   "metadata": {},
   "outputs": [],
   "source": [
    "# Preprocess numeric features, filling any gaps in Fare/FamilySize/PClass with the median value\n",
    "# Scaling is more important for kNN, but still useful here\n",
    "numeric_tf = Pipeline([\n",
    "    (\"imputer\", SimpleImputer(strategy=\"median\")),  \n",
    "    (\"scaler\", StandardScaler())                   \n",
    "])\n",
    "\n",
    "# Scale our Sex variable\n",
    "categorical_tf = Pipeline([\n",
    "    (\"imputer\", SimpleImputer(strategy=\"most_frequent\")),\n",
    "    (\"onehot\", OneHotEncoder(handle_unknown=\"ignore\"))\n",
    "])\n",
    "\n",
    "# Execute the preprocessing\n",
    "preprocess = ColumnTransformer([\n",
    "    (\"num\", numeric_tf, num_cols),\n",
    "    (\"cat\", categorical_tf, cat_cols),\n",
    "])"
   ]
  },
  {
   "cell_type": "code",
   "execution_count": 30,
   "id": "a56e832f-e06a-4509-8ece-a58af414d04c",
   "metadata": {},
   "outputs": [
    {
     "name": "stdout",
     "output_type": "stream",
     "text": [
      "Best params: {'model__max_depth': 8, 'model__min_samples_leaf': 4, 'model__n_estimators': 200}\n",
      "CV MAE:  9.85 years\n",
      "CV RMSE: 12.47 years\n"
     ]
    }
   ],
   "source": [
    "# Create and tune the regressor algorithm \n",
    "rf = RandomForestRegressor(random_state=42, n_jobs=-1)\n",
    "pipe = Pipeline([\n",
    "    (\"preprocess\", preprocess),\n",
    "    (\"model\", rf),\n",
    "])\n",
    "\n",
    "cv = KFold(n_splits=5, shuffle=True, random_state=42)\n",
    "\n",
    "# Use our defined parameter grid to optimize the regressor (See adjustable parameters section)\n",
    "gs = GridSearchCV(\n",
    "    pipe, regressor_param_grid, cv=cv,\n",
    "    scoring=\"neg_mean_absolute_error\",\n",
    "    n_jobs=-1, refit=True\n",
    ")\n",
    "\n",
    "# Fit our regressor model\n",
    "gs.fit(X_train, y_train)\n",
    "\n",
    "# Report performance metrics Mean Absolute Error and Root Mean Squared Error\n",
    "mae = -gs.best_score_\n",
    "rmse = -cross_val_score(gs.best_estimator_, X_train, y_train,\n",
    "                        cv=cv, scoring=\"neg_root_mean_squared_error\",\n",
    "                        n_jobs=-1).mean()\n",
    "print(f\"Best params: {gs.best_params_}\")\n",
    "print(f\"CV MAE:  {mae:.2f} years\")\n",
    "print(f\"CV RMSE: {rmse:.2f} years\")"
   ]
  },
  {
   "cell_type": "code",
   "execution_count": 31,
   "id": "ed0d090a-8553-49cc-b15f-a463b373f464",
   "metadata": {},
   "outputs": [
    {
     "name": "stdout",
     "output_type": "stream",
     "text": [
      "\n",
      "Imputation summary:\n",
      "Known ages before: 332\n",
      "Missing ages before: 86\n",
      "Missing ages after: 0\n",
      "\n",
      "Age (known) summary:\n",
      "count    332.00\n",
      "mean      30.27\n",
      "std       14.18\n",
      "min        0.17\n",
      "25%       21.00\n",
      "50%       27.00\n",
      "75%       39.00\n",
      "max       76.00\n",
      "Name: Age, dtype: float64\n",
      "\n",
      "Age (final) summary:\n",
      "count    418.00\n",
      "mean      29.51\n",
      "std       13.05\n",
      "min        0.17\n",
      "25%       22.00\n",
      "50%       26.35\n",
      "75%       36.88\n",
      "max       76.00\n",
      "Name: Age_final, dtype: float64\n"
     ]
    }
   ],
   "source": [
    "# Predict missing age values, capping values between 0 and 80\n",
    "age_pred = gs.best_estimator_.predict(X_pred)\n",
    "age_pred = np.clip(age_pred, 0.0, 80.0)  \n",
    "\n",
    "df.loc[mask_missing_age, \"Age_imputed\"] = age_pred\n",
    "df[\"Age_final\"] = df[\"Age\"].fillna(df[\"Age_imputed\"])\n",
    "df[\"Age_was_imputed\"] = df[\"Age\"].isna().astype(int)\n",
    "\n",
    "# Output preliminary performance metrics\n",
    "print(\"\\nImputation summary:\")\n",
    "print(\"Known ages before:\", int(mask_known_age.sum()))\n",
    "print(\"Missing ages before:\", int(mask_missing_age.sum()))\n",
    "print(\"Missing ages after:\", int(df['Age_final'].isna().sum()))\n",
    "\n",
    "print(\"\\nAge (known) summary:\")\n",
    "print(df.loc[mask_known_age, \"Age\"].describe().round(2))\n",
    "\n",
    "print(\"\\nAge (final) summary:\")\n",
    "print(df[\"Age_final\"].describe().round(2))"
   ]
  },
  {
   "cell_type": "markdown",
   "id": "20964a09-5dc5-42c4-b67e-70faead977ca",
   "metadata": {},
   "source": [
    "Looking at the Mean Absolute Error and Root Mean Squared Error of our regression model, we can see that on average, our estimates for age are off by about 10 years on average, which feels rather large. See the validation section for more details on this model accuracy. Once we actually predict and impute our ages, we can see that the quartiles for age before and after imputation do not dramatically change. Our mean decreases fromn 30.27 to 29.51, and our median decreases from 27 to 26.35. As a preliminary result this doesn't raise any serious red flags. "
   ]
  },
  {
   "cell_type": "markdown",
   "id": "eb2772da",
   "metadata": {},
   "source": [
    "## Validation of the kNN Cabin (Deck) imputation algorithm ##"
   ]
  },
  {
   "cell_type": "code",
   "execution_count": 35,
   "id": "925d6e52",
   "metadata": {},
   "outputs": [
    {
     "name": "stdout",
     "output_type": "stream",
     "text": [
      "=== Imputation confidence (imputed rows) ===\n",
      "n_imputed: 327\n",
      "mean_max_p: 0.874\n",
      "median_max_p: 0.997\n",
      "frac_p>=0.6: 0.841\n",
      "frac_p>=0.8: 0.722\n"
     ]
    }
   ],
   "source": [
    "# Imputation confidence calculation on inputed rows\n",
    "assert \"Deck_final\" in df.columns, \"Deck_final not found—run your kNN imputation first.\"\n",
    "\n",
    "# Use previously defined kNN features\n",
    "num_cols = [c for c in cabin_features if pd.api.types.is_numeric_dtype(df[c])]\n",
    "cat_cols = [c for c in cabin_features if not pd.api.types.is_numeric_dtype(df[c])]\n",
    "\n",
    "# Use the exact same preprocessing performed for the kNN model above\n",
    "preprocess = ColumnTransformer([\n",
    "    (\"num\", Pipeline([\n",
    "        (\"imp\", SimpleImputer(strategy=\"median\")),\n",
    "        (\"sc\", StandardScaler())\n",
    "    ]), num_cols),\n",
    "    (\"cat\", Pipeline([\n",
    "        (\"imp\", SimpleImputer(strategy=\"most_frequent\")),\n",
    "        (\"oh\", OneHotEncoder(handle_unknown=\"ignore\"))\n",
    "    ]), cat_cols),\n",
    "])\n",
    "\n",
    "pipe = Pipeline([\n",
    "    (\"pre\", preprocess),\n",
    "    (\"knn\", KNeighborsClassifier(n_neighbors=5, weights=\"distance\")),\n",
    "])\n",
    "\n",
    "# mask_known = rows where the original Deck is present\n",
    "# mask_imputed = rows where Deck was missing\n",
    "mask_known   = df[\"Deck\"].notna() if \"Deck\" in df.columns else pd.Series(False, index=df.index)\n",
    "mask_imputed = ~mask_known\n",
    "\n",
    "# Fit model on known rows\n",
    "Xk = df.loc[mask_known, cabin_features]\n",
    "yk = df.loc[mask_known, \"Deck\"]\n",
    "pipe.fit(Xk, yk)\n",
    "\n",
    "print(\"=== Imputation confidence (imputed rows) ===\")\n",
    "if mask_imputed.any():\n",
    "    X_imp = df.loc[mask_imputed, cabin_features]\n",
    "    # For each imputed row 𝑥, kNN finds its 𝑘 nearest neighbors and computes a class probability by weighting neighbors\n",
    "    proba = pipe.predict_proba(X_imp)\n",
    "    # For each row, take the largest class probability = the model’s confidence in the chosen deck label\n",
    "    maxp = proba.max(axis=1)\n",
    "\n",
    "    print(f\"n_imputed: {int(mask_imputed.sum())}\")\n",
    "    print(f\"mean_max_p: {maxp.mean():.3f}\")\n",
    "    print(f\"median_max_p: {np.median(maxp):.3f}\")\n",
    "    print(f\"frac_p>=0.6: {(maxp >= 0.6).mean():.3f}\")\n",
    "    print(f\"frac_p>=0.8: {(maxp >= 0.8).mean():.3f}\")\n",
    "else:\n",
    "    print(\"No imputed rows to score.\")"
   ]
  },
  {
   "cell_type": "markdown",
   "id": "83077095-d335-4867-b627-2874adcdb554",
   "metadata": {},
   "source": [
    "In general, our Deck imputation probabilities are generally pretty good. Over 84% of our imputations have a probability score of over 60%, and over 63% of our imputations have a probability score over 80%. Given the extremely large fraction (327/418) of missing cabin values, these probabilities are impressive. We do acknowledge that we are using Deck imputations here, not the fully precise Cabin values with Letter & number."
   ]
  },
  {
   "cell_type": "code",
   "execution_count": 37,
   "id": "ae8b27f8-4123-4517-a62a-1e534fa017cc",
   "metadata": {},
   "outputs": [
    {
     "name": "stdout",
     "output_type": "stream",
     "text": [
      "\n",
      "Confusion matrix (5-fold aggregated):\n"
     ]
    },
    {
     "name": "stderr",
     "output_type": "stream",
     "text": [
      "/opt/anaconda3/envs/research_disc_one_env/lib/python3.10/site-packages/sklearn/model_selection/_split.py:737: UserWarning: The least populated class in y has only 1 members, which is less than n_splits=5.\n",
      "  warnings.warn(\n"
     ]
    },
    {
     "data": {
      "text/html": [
       "<div>\n",
       "<style scoped>\n",
       "    .dataframe tbody tr th:only-of-type {\n",
       "        vertical-align: middle;\n",
       "    }\n",
       "\n",
       "    .dataframe tbody tr th {\n",
       "        vertical-align: top;\n",
       "    }\n",
       "\n",
       "    .dataframe thead th {\n",
       "        text-align: right;\n",
       "    }\n",
       "</style>\n",
       "<table border=\"1\" class=\"dataframe\">\n",
       "  <thead>\n",
       "    <tr style=\"text-align: right;\">\n",
       "      <th></th>\n",
       "      <th>pred_A</th>\n",
       "      <th>pred_B</th>\n",
       "      <th>pred_C</th>\n",
       "      <th>pred_D</th>\n",
       "      <th>pred_E</th>\n",
       "      <th>pred_F</th>\n",
       "      <th>pred_G</th>\n",
       "    </tr>\n",
       "  </thead>\n",
       "  <tbody>\n",
       "    <tr>\n",
       "      <th>true_A</th>\n",
       "      <td>6</td>\n",
       "      <td>0</td>\n",
       "      <td>0</td>\n",
       "      <td>1</td>\n",
       "      <td>0</td>\n",
       "      <td>0</td>\n",
       "      <td>0</td>\n",
       "    </tr>\n",
       "    <tr>\n",
       "      <th>true_B</th>\n",
       "      <td>0</td>\n",
       "      <td>5</td>\n",
       "      <td>7</td>\n",
       "      <td>5</td>\n",
       "      <td>1</td>\n",
       "      <td>0</td>\n",
       "      <td>0</td>\n",
       "    </tr>\n",
       "    <tr>\n",
       "      <th>true_C</th>\n",
       "      <td>0</td>\n",
       "      <td>4</td>\n",
       "      <td>23</td>\n",
       "      <td>3</td>\n",
       "      <td>5</td>\n",
       "      <td>0</td>\n",
       "      <td>0</td>\n",
       "    </tr>\n",
       "    <tr>\n",
       "      <th>true_D</th>\n",
       "      <td>2</td>\n",
       "      <td>3</td>\n",
       "      <td>2</td>\n",
       "      <td>5</td>\n",
       "      <td>0</td>\n",
       "      <td>1</td>\n",
       "      <td>0</td>\n",
       "    </tr>\n",
       "    <tr>\n",
       "      <th>true_E</th>\n",
       "      <td>0</td>\n",
       "      <td>2</td>\n",
       "      <td>5</td>\n",
       "      <td>0</td>\n",
       "      <td>2</td>\n",
       "      <td>0</td>\n",
       "      <td>0</td>\n",
       "    </tr>\n",
       "    <tr>\n",
       "      <th>true_F</th>\n",
       "      <td>0</td>\n",
       "      <td>0</td>\n",
       "      <td>0</td>\n",
       "      <td>2</td>\n",
       "      <td>0</td>\n",
       "      <td>6</td>\n",
       "      <td>0</td>\n",
       "    </tr>\n",
       "    <tr>\n",
       "      <th>true_G</th>\n",
       "      <td>0</td>\n",
       "      <td>0</td>\n",
       "      <td>0</td>\n",
       "      <td>0</td>\n",
       "      <td>0</td>\n",
       "      <td>1</td>\n",
       "      <td>0</td>\n",
       "    </tr>\n",
       "  </tbody>\n",
       "</table>\n",
       "</div>"
      ],
      "text/plain": [
       "        pred_A  pred_B  pred_C  pred_D  pred_E  pred_F  pred_G\n",
       "true_A       6       0       0       1       0       0       0\n",
       "true_B       0       5       7       5       1       0       0\n",
       "true_C       0       4      23       3       5       0       0\n",
       "true_D       2       3       2       5       0       1       0\n",
       "true_E       0       2       5       0       2       0       0\n",
       "true_F       0       0       0       2       0       6       0\n",
       "true_G       0       0       0       0       0       1       0"
      ]
     },
     "metadata": {},
     "output_type": "display_data"
    }
   ],
   "source": [
    "print(\"\\nConfusion matrix (5-fold aggregated):\")\n",
    "# Fixes a consistent class order for all folds\n",
    "labels = sorted(yk.unique().tolist())\n",
    "cm_total = np.zeros((len(labels), len(labels)), dtype=int)\n",
    "\n",
    "# Builds a 5-fold splitter that keeps the deck class proportions similar in every fold\n",
    "skf = StratifiedKFold(n_splits=5, shuffle=True, random_state=42)\n",
    "for tr, te in skf.split(Xk, yk):\n",
    "    # Train the kNN pipeline on the train fold only\n",
    "    pipe.fit(Xk.iloc[tr], yk.iloc[tr])\n",
    "    # Predict deck labels for the held-out test fold\n",
    "    yp = pipe.predict(Xk.iloc[te])\n",
    "    # sum over all 5 folds\n",
    "    cm_total += confusion_matrix(yk.iloc[te], yp, labels=labels)\n",
    "\n",
    "cm_df = pd.DataFrame(cm_total,\n",
    "                     index=[f\"true_{l}\" for l in labels],\n",
    "                     columns=[f\"pred_{l}\" for l in labels])\n",
    "display(cm_df)"
   ]
  },
  {
   "cell_type": "markdown",
   "id": "9d664675-b0ea-47ec-9722-7d3b6fb890ef",
   "metadata": {},
   "source": [
    "The confusion matrix shows errors are mostly within the same class band (A/B/C/E and C/D in 1st/2nd class and F/Gin 3rd); indicating the model captures the Fare/Pclass signal that we observed in the EDA stage well. Accuracy drops for rare decks; especially E and G, with a mild bias toward predicting C when features overlap. Overall, the imputation preserves the general dataset structure and would suffice for many use-cases. Precision could potentially be increased by applying a confidence threshold or collapsing decks into coarser bands."
   ]
  },
  {
   "cell_type": "markdown",
   "id": "984cc3cd-28a0-4112-a37f-fcafa77d153e",
   "metadata": {},
   "source": [
    "## Validation of the Regression Age imputation algorithm ##"
   ]
  },
  {
   "cell_type": "code",
   "execution_count": 40,
   "id": "66cf38b5-d2e6-4ceb-b37e-e0d3a6b5a502",
   "metadata": {},
   "outputs": [
    {
     "name": "stdout",
     "output_type": "stream",
     "text": [
      "CV MAE:  10.71 ± 0.76 years\n",
      "CV RMSE: 13.65 ± 1.10 years\n",
      "KS test (true vs. CV-preds): KS=0.160, p=0.0004\n"
     ]
    },
    {
     "data": {
      "image/png": "[encoded data removed]",
      "text/plain": [
       "<Figure size 640x480 with 1 Axes>"
      ]
     },
     "metadata": {},
     "output_type": "display_data"
    },
    {
     "data": {
      "image/png": "[encoded data removed]",
      "text/plain": [
       "<Figure size 640x480 with 1 Axes>"
      ]
     },
     "metadata": {},
     "output_type": "display_data"
    }
   ],
   "source": [
    "# Mask-and-recover CV for Age imputation \n",
    "# Use the same features you used in the regression model above\n",
    "age_features = [c for c in [\"Pclass\",\"Fare\",\"FamilySize\",\"Sex\"] if c in df.columns]\n",
    "\n",
    "# Redefine our mask\n",
    "mask_known = df[\"Age\"].notna()\n",
    "X = df.loc[mask_known, age_features].copy()\n",
    "y = df.loc[mask_known, \"Age\"].copy()\n",
    "\n",
    "num_cols = [c for c in age_features if pd.api.types.is_numeric_dtype(df[c])]\n",
    "cat_cols = [c for c in age_features if not pd.api.types.is_numeric_dtype(df[c])]\n",
    "\n",
    "# Implement the same preprocessing as above\n",
    "pre = ColumnTransformer([\n",
    "    (\"num\", Pipeline([(\"imp\", SimpleImputer(strategy=\"median\")),\n",
    "                      (\"sc\", StandardScaler())]), num_cols),\n",
    "    (\"cat\", Pipeline([(\"imp\", SimpleImputer(strategy=\"most_frequent\")),\n",
    "                      (\"oh\", OneHotEncoder(handle_unknown=\"ignore\"))]), cat_cols),\n",
    "])\n",
    "\n",
    "# Fit our regression model\n",
    "model = RandomForestRegressor(random_state=42, n_jobs=-1)\n",
    "pipe  = Pipeline([(\"pre\", pre), (\"model\", model)])\n",
    "\n",
    "# Implement 5-fold CV for our Mean absolute error, RMSE and y_pred vs y_true data\n",
    "cv = KFold(n_splits=5, shuffle=True, random_state=42)\n",
    "maes, rmses, y_true_all, y_pred_all = [], [], [], []\n",
    "\n",
    "# Train & test each row indices for each fold, and then compute fold errors\n",
    "for tr, te in cv.split(X, y):\n",
    "    pipe.fit(X.iloc[tr], y.iloc[tr])\n",
    "    yp = pipe.predict(X.iloc[te])\n",
    "    yt = y.iloc[te].values\n",
    "    maes.append(mean_absolute_error(yt, yp))\n",
    "    rmses.append(mean_squared_error(yt, yp, squared=False))\n",
    "    y_true_all.extend(yt); y_pred_all.extend(yp)\n",
    "\n",
    "# Output average & standard dev of MAE and RMSE across 5 folds\n",
    "print(f\"CV MAE:  {np.mean(maes):.2f} ± {np.std(maes):.2f} years\")\n",
    "print(f\"CV RMSE: {np.mean(rmses):.2f} ± {np.std(rmses):.2f} years\")\n",
    "\n",
    "# Check if preds on masked-out folds are shaped like true ages?\n",
    "ks, p = ks_2samp(y_true_all, y_pred_all)\n",
    "print(f\"KS test (true vs. CV-preds): KS={ks:.3f}, p={p:.4f}\")\n",
    "\n",
    "# Residual histogram plot\n",
    "resid = np.array(y_true_all) - np.array(y_pred_all)\n",
    "plt.figure(); plt.hist(resid, bins=20)\n",
    "plt.title(\"Age residuals (true - predicted)\"); plt.xlabel(\"Years\"); plt.ylabel(\"Count\"); plt.tight_layout(); plt.show()\n",
    "\n",
    "# Predicted vs true age\n",
    "plt.figure()\n",
    "plt.scatter(y_true_all, y_pred_all, s=12)\n",
    "mn, mx = min(y_true_all + y_pred_all), max(y_true_all + y_pred_all)\n",
    "plt.plot([mn, mx],[mn, mx])\n",
    "plt.title(\"Predicted vs True Age (CV held-out)\"); plt.xlabel(\"True Age\"); plt.ylabel(\"Predicted Age\")\n",
    "plt.tight_layout(); plt.show()"
   ]
  },
  {
   "cell_type": "markdown",
   "id": "8d8f4387-5d2a-4507-b70e-2b737b9273aa",
   "metadata": {},
   "source": [
    "With CV MAE ≈ 10.7±0.8 yrs and RMSE ≈ 13.7±1.1 yrs, the model is stable across folds but only moderately accurate—about ~11 years off on average using just Pclass, Fare, FamilySize, and Sex. The residual histogram is roughly centered with a slight negative skew, suggesting a slight over-prediction. It also has fat tails, indicating larger mistakes at the extremes of very young and very old passengers.\n",
    "The predicted-vs-true plot also shows shrinkage toward ~25–35 years, underestimating very young/old ages. This model could be improved by add stronger signals like Deck_final or perhaps title information."
   ]
  },
  {
   "cell_type": "code",
   "execution_count": 42,
   "id": "087e8da4-7776-4da3-8cce-021e598d55ee",
   "metadata": {},
   "outputs": [
    {
     "name": "stdout",
     "output_type": "stream",
     "text": [
      "=== Downstream: Predict Pclass ===\n",
      "Complete-case (drop Age NaNs):  ACC=0.843  Macro-F1=0.827  (n=332)\n",
      "With imputed Age (Age_final):   ACC=0.890  Macro-F1=0.868 (n=418)\n",
      "ΔACC=+0.047  ΔF1=+0.041\n"
     ]
    }
   ],
   "source": [
    "# Downstream model comparison with vs without imputed Age\n",
    "\n",
    "# Common predictors for Pclass to be used as base features\n",
    "base_features = [c for c in [\"Sex\",\"Embarked\",\"SibSp\",\"Parch\",\"Fare\"] if c in df.columns]\n",
    "\n",
    "# Drop rows with Age missing, use only rows with age available\n",
    "mask_cc = df[\"Age\"].notna()\n",
    "features_cc = base_features + [\"Age\"]\n",
    "X_cc = df.loc[mask_cc, features_cc]\n",
    "y_cc = df.loc[mask_cc, \"Pclass\"]\n",
    "\n",
    "# Use all rows, with imputed age\n",
    "assert \"Age_final\" in df.columns, \"Age_final not found—run the imputation first.\"\n",
    "features_imp = base_features + [\"Age_final\"]\n",
    "X_imp = df.loc[:, features_imp].rename(columns={\"Age_final\":\"Age\"})\n",
    "y_imp = df[\"Pclass\"]\n",
    "\n",
    "def eval_clf(X, y):\n",
    "    num_cols = [c for c in X.columns if pd.api.types.is_numeric_dtype(X[c])]\n",
    "    cat_cols = [c for c in X.columns if not pd.api.types.is_numeric_dtype(X[c])]\n",
    "    # Standard preprocessing\n",
    "    pre = ColumnTransformer([\n",
    "        (\"num\", Pipeline([(\"imp\", SimpleImputer(strategy=\"median\")),\n",
    "                          (\"sc\", StandardScaler())]), num_cols),\n",
    "        (\"cat\", Pipeline([(\"imp\", SimpleImputer(strategy=\"most_frequent\")),\n",
    "                          (\"oh\", OneHotEncoder(handle_unknown=\"ignore\"))]), cat_cols),\n",
    "    ])\n",
    "    # Fit the model\n",
    "    clf = RandomForestClassifier(random_state=42, n_jobs=-1)\n",
    "    pipe = Pipeline([(\"pre\", pre), (\"clf\", clf)])\n",
    "    cv = KFold(n_splits=5, shuffle=True, random_state=42)\n",
    "    acc = cross_val_score(pipe, X, y, cv=cv, scoring=\"accuracy\",   n_jobs=-1).mean()\n",
    "    f1  = cross_val_score(pipe, X, y, cv=cv, scoring=\"f1_macro\",   n_jobs=-1).mean()\n",
    "    return acc, f1\n",
    "\n",
    "acc_cc,  f1_cc  = eval_clf(X_cc,  y_cc)\n",
    "acc_imp, f1_imp = eval_clf(X_imp, y_imp)\n",
    "\n",
    "print(\"=== Downstream: Predict Pclass ===\")\n",
    "print(f\"Complete-case (drop Age NaNs):  ACC={acc_cc:.3f}  Macro-F1={f1_cc:.3f}  (n={len(X_cc)})\")\n",
    "print(f\"With imputed Age (Age_final):   ACC={acc_imp:.3f}  Macro-F1={f1_imp:.3f} (n={len(X_imp)})\")\n",
    "print(f\"ΔACC={(acc_imp-acc_cc):+.3f}  ΔF1={(f1_imp-f1_cc):+.3f}\")"
   ]
  },
  {
   "cell_type": "markdown",
   "id": "09330922-af0b-4e4b-ad05-38d54abbdaca",
   "metadata": {},
   "source": [
    "Including Age_final lets you train on 418 vs 332 rows (~26% more data) and boosts performance: Accuracy +4.7 pts (0.843 → 0.890) and Macro-F1 +4.1 pts (0.827 → 0.868). The Macro-F1 gain means improvements are balanced across classes, not just the majority class, so the imputed ages are adding useful signal. The regression imputation for Age improves both coverage and predictive quality, and was overall more successful than the kNN imputation model for Cabin (Deck)."
   ]
  },
  {
   "cell_type": "markdown",
   "id": "2f25f417-c870-4639-b5ef-c8610e0f1f01",
   "metadata": {},
   "source": [
    "# Conclusions"
   ]
  },
  {
   "cell_type": "markdown",
   "id": "1b81d6cf-90c7-4b8e-8f88-74a5c5ddc830",
   "metadata": {},
   "source": [
    "I imputed Deck with kNN (categorical, MNAR) and Age with regression (numeric, MAR), matching method to data type and missingness.\n",
    "kNN validation showed solid confidence (mean ≈ 0.83, ~64% ≥ 0.8) and confusions mostly within class bands (A/B/C/E and F/G), indicating the imputer preserves underlying structure despite weaker performance on rare decks. The shear quantity of missing cabin labels made this task challenging, but all things considered the kNN model performed impressively well.\n",
    "\n",
    "The Age model delivered stable but moderate error (CV MAE ≈ 10.7, RMSE ≈ 13.7) with some additional noise at the extremes.\n",
    "The downstream model performance improved when using imputed features: predicting Pclass rose from 0.843 to 0.890 accuracy and 0.827 to 0.868 macro-F1, showing that the imputations add useful signal and are preferable to a null model using rows with only provided ages. "
   ]
  },
  {
   "cell_type": "markdown",
   "id": "4d411f7c",
   "metadata": {},
   "source": [
    "# References\n",
    "[1] Christopher M. Bishop. Neural Networks for Pattern Recognition. Oxford University Press, 1995.<br><br>\n",
    "[2] Christopher Bishop. Pattern Recognition and Machine Learning. Springer, 2006. isbn: 0387310738.<br><br>\n",
    "[3] Barry J. Shepherd C. Wayne Brown. Graphics File Formats: Reference and Guide. Manning\n",
    "Publications, 1995. isbn: 1884777007.<br><br>\n",
    "[4] Thomas H. Cormen et al. Introduction to Algorithms. 3rd. MIT Press, 2009. isbn: 780262033848.<br><br>\n",
    "[5] W. R. Dillon and M. Goldstein. Multivariate Analysis Method and Applications. New York, NY:\n",
    "John Wiley Sons, Inc, 1984.<br><br>\n",
    "[6] Richard O. Duda, Peter E. Hart, and David G. Stork. Pattern Classification. 2nd. Wiley-\n",
    "Interscience, 2000.<br><br>\n",
    "[7] Duin et al. PRTools. https://cmp.felk.cvut.cz/cmp/software/stprtool/index.html.<br><br>\n",
    "[8] L. Euler. “Nova Acta Acad. Sci. Petrop”. In: (1960).<br><br>\n",
    "[9] R.A. Fisher. “The use of Multiple Measurements in Taxonomic Problems”. In: Proceedings of\n",
    "Annals of Eugenics 7 (1936), pp. 179–188.<br><br>\n",
    "[10] Vojtech Franc and Vaclav Hlavac. Statistical Pattern Recognition Toolbox. https://cmp.felk.\n",
    "cvut.cz/cmp/software/stprtool/index.html.<br><br>\n",
    "[11] Keinosuke Fukunaga. Introduction to Statistical Pattern Recognition. 1st. Academic Press, 1972.\n",
    "isbn: 0122698509.<br><br>\n",
    "[12] Keinosuke Fukunaga. Introduction to Statistical Pattern Recognition. 2nd. Academic Press, 1990.\n",
    "isbn: 0122698517.<br><br>\n",
    "[13] Herman H. Goldstine. A History of Numerical Analysis from the 16th through the 19th Century.\n",
    "Springer New York, 1977. isbn: 978-0-387-90277-7.<br><br>\n",
    "[14] H. Hotelling. “Analysis of a complex of statistical variables into principal components”. In: Jour-\n",
    "nal of Educational Psychology 24 (1933), pp. 417–441.<br><br>\n",
    "[15] Averill Law. Simulation Modeling and Analysis. 5th. Mcgraw-hill Series in Industrial Engineering\n",
    "and Management, 2014.<br><br>\n",
    "[16] Machine Learning at Waikato University. https://www.cs.waikato.ac.nz/~ml/index.html.<br><br>\n",
    "[17] James D. Murry and William vanRyper. Encyclopedia of Graphics File Formats: The Com-\n",
    "plete Reference on CD-ROM with Links to Internet Resources. 2nd. O’Reilly Media, 1996. isbn:\n",
    "1565921615.<br><br>\n",
    "[18] F. Pedregosa et al. “Scikit-learn: Machine Learning in Python”. In: Journal of Machine Learning\n",
    "Research 12 (2011), pp. 2825–2830.<br><br>\n",
    "[19] Casey J. Richards et al. “Multimodal data fusion using signal/image processing methods for\n",
    "multi-class machine learning”. In: Signal Processing, Sensor/Information Fusion, and Target\n",
    "Recognition XXXII. Ed. by Ivan Kadar, Erik P. Blasch, and Lynne L. Grewe. Vol. 12547. Inter-\n",
    "national Society for Optics and Photonics. SPIE, 2023, 125470N. doi: 10.1117/12.2664987.\n",
    "url: https://doi.org/10.1117/12.2664987.<br><br>\n",
    "[20] Benjamin M. Rodriguez. “Multi-Class Classification for Identifying JPEG Steganography Em-\n",
    "bedding Methods”. PhD thesis. Air Force Institute of Technology, 2008. url: https://scholar.\n",
    "afit.edu/cgi/viewcontent.cgi?article=3642&context=etd.<br><br>\n",
    "[21] Stuart Russell and Peter Norvig. Artificial Intelligence: A Modern Approach. 4th. Prentice Hall,\n",
    "2020.<br><br>\n",
    "[22] Amir Saeed et al. “Reinforcement learning application to satellite constellation sensor tasking”.\n",
    "In: Artificial Intelligence and Machine Learning for Multi-Domain Operations Applications V.\n",
    "Ed. by Latasha Solomon and Peter J. Schwartz. Vol. 12538. International Society for Optics and\n",
    "Photonics. SPIE, 2023, 125381B. doi: 10.1117/12.2664346. url: https://doi.org/10.1117/\n",
    "12.2664346.<br><br>\n",
    "[23] C. E. Shannon. “Programming a Computer for Playing Chess”. In: Philosophical Magazine.\n",
    "7th ser. 41.314 (1950).<br><br>\n",
    "[24] Richard S. Sutton and Andrew G. Barto. Reinforcement learning: An introduction. MIT Press,\n",
    "2018.<br><br>\n",
    "[25] Sergios Theodoridis and Konstantinos Koutroumbas. Pattern Recognition. 3rd. Academic Press,\n",
    "2006. isbn: 0123695317.<br><br>\n",
    "[26] Alan M. Turing. “Computing Machinery and Intelligence”. In: Mind 59.236 (1950), pp. 433 –460.<br><br>\n",
    "[27] P. Winston. Artificial Intelligence. 3rd. Pearson, 1992.<br><br>\n",
    "https://www.kaggle.com/datasets/brendan45774/test-file?resource=download"
   ]
  }
 ],
 "metadata": {
  "autoupdated": {
   "by": "ChatGPT – HW1 templating utility",
   "updated_at": "2025-08-16T01:47:56.304321"
  },
  "kernelspec": {
   "display_name": "Python [conda env:research_disc_one_env]",
   "language": "python",
   "name": "conda-env-research_disc_one_env-py"
  },
  "language_info": {
   "codemirror_mode": {
    "name": "ipython",
    "version": 3
   },
   "file_extension": ".py",
   "mimetype": "text/x-python",
   "name": "python",
   "nbconvert_exporter": "python",
   "pygments_lexer": "ipython3",
   "version": "3.10.18"
  },
  "title": "DSMA Homework Template"
 },
 "nbformat": 4,
 "nbformat_minor": 5
}
